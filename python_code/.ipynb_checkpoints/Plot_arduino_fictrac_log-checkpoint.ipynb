{
 "cells": [
  {
   "cell_type": "code",
   "execution_count": 1,
   "metadata": {},
   "outputs": [
    {
     "data": {
      "text/plain": [
       "'\\nAnazlying the FicTrac and Arduino logs and plotting them side by side\\n\\nTatsuo Okubo\\n1/13/2021\\n'"
      ]
     },
     "execution_count": 1,
     "metadata": {},
     "output_type": "execute_result"
    }
   ],
   "source": [
    "# -*- coding: utf-8 -*-\n",
    "\"\"\"\n",
    "Anazlying the FicTrac and Arduino logs and plotting them side by side\n",
    "\n",
    "Tatsuo Okubo\n",
    "1/13/2021\n",
    "\"\"\""
   ]
  },
  {
   "cell_type": "code",
   "execution_count": 3,
   "metadata": {},
   "outputs": [],
   "source": [
    "%matplotlib widget\n",
    "import numpy as np\n",
    "import pandas as pd\n",
    "import matplotlib.pyplot as plt\n",
    "import seaborn as sns\n",
    "from matplotlib.ticker import (MultipleLocator, AutoMinorLocator)"
   ]
  },
  {
   "cell_type": "code",
   "execution_count": 10,
   "metadata": {},
   "outputs": [],
   "source": [
    "file_path = \"C://Users//Tots//Documents//Python//CLwind//log/20210115_140118\"\n",
    "file_path_fictrac = file_path + \"_fictrac.csv\"\n",
    "file_path_arduino = file_path + \"_arduino.csv\"\n",
    "\n",
    "try:\n",
    "    df_fictrac = pd.read_csv(file_path_fictrac, names = [\"time\", \"heading\"])\n",
    "    df_arduino = pd.read_csv(file_path_arduino, names = [\"time\", \"motor\"])\n",
    "\n",
    "    df_fictrac = df_fictrac.apply (pd.to_numeric, errors='coerce')\n",
    "    df_arduino = df_arduino.apply (pd.to_numeric, errors='coerce')\n",
    "except FileNotFoundError:\n",
    "    print(\"File not found!\")"
   ]
  },
  {
   "cell_type": "code",
   "execution_count": 15,
   "metadata": {},
   "outputs": [
    {
     "name": "stdout",
     "output_type": "stream",
     "text": [
      "1610737278.5786273\n",
      "1610737279.023626\n"
     ]
    }
   ],
   "source": [
    "print(df_fictrac.time[0])\n",
    "print(df_arduino.time[0])\n"
   ]
  },
  {
   "cell_type": "code",
   "execution_count": 16,
   "metadata": {},
   "outputs": [
    {
     "data": {
      "application/vnd.jupyter.widget-view+json": {
       "model_id": "518f481d0694449eb437366bd4864f99",
       "version_major": 2,
       "version_minor": 0
      },
      "text/plain": [
       "Canvas(toolbar=Toolbar(toolitems=[('Home', 'Reset original view', 'home', 'home'), ('Back', 'Back to previous …"
      ]
     },
     "metadata": {},
     "output_type": "display_data"
    },
    {
     "data": {
      "text/plain": [
       "Text(0, 0.5, 'angular position (deg)')"
      ]
     },
     "execution_count": 16,
     "metadata": {},
     "output_type": "execute_result"
    }
   ],
   "source": [
    "t_origin = min(df_fictrac.time[0], df_arduino.time[0])\n",
    "\n",
    "plt.close('all')\n",
    "fig = plt.figure(figsize=(12, 6))\n",
    "plt.plot(df_fictrac.time-t_origin, df_fictrac.heading, '.', color='blue', label='fly heading')\n",
    "plt.plot(df_arduino.time-t_origin, df_arduino.motor, '.', color='orange', label='motor position')\n",
    "plt.yticks(np.arange(0, 360.1, step=30))\n",
    "plt.legend(loc='upper left', fontsize='large', markerscale=2)\n",
    "plt.xlabel('time stamp (s)', fontsize=14)\n",
    "plt.ylabel('angular position (deg)', fontsize=14)\n"
   ]
  }
 ],
 "metadata": {
  "kernelspec": {
   "display_name": "Python 3",
   "language": "python",
   "name": "python3"
  },
  "language_info": {
   "codemirror_mode": {
    "name": "ipython",
    "version": 3
   },
   "file_extension": ".py",
   "mimetype": "text/x-python",
   "name": "python",
   "nbconvert_exporter": "python",
   "pygments_lexer": "ipython3",
   "version": "3.7.4"
  }
 },
 "nbformat": 4,
 "nbformat_minor": 4
}
