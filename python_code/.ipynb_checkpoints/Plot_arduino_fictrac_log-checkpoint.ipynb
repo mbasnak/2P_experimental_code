{
 "cells": [
  {
   "cell_type": "code",
   "execution_count": 45,
   "metadata": {},
   "outputs": [
    {
     "data": {
      "text/plain": [
       "'\\nAnazlying the FicTrac and Arduino logs and plotting them side by side\\n\\nTatsuo Okubo\\n1/13/2021\\n'"
      ]
     },
     "execution_count": 45,
     "metadata": {},
     "output_type": "execute_result"
    }
   ],
   "source": [
    "# -*- coding: utf-8 -*-\n",
    "\"\"\"\n",
    "Anazlying the FicTrac and Arduino logs and plotting them side by side\n",
    "\n",
    "Tatsuo Okubo\n",
    "1/13/2021\n",
    "\"\"\""
   ]
  },
  {
   "cell_type": "code",
   "execution_count": 46,
   "metadata": {},
   "outputs": [],
   "source": [
    "%matplotlib widget\n",
    "import numpy as np\n",
    "import pandas as pd\n",
    "import matplotlib.pyplot as plt\n",
    "import seaborn as sns\n",
    "from matplotlib.ticker import (MultipleLocator, AutoMinorLocator)"
   ]
  },
  {
   "cell_type": "code",
   "execution_count": 54,
   "metadata": {},
   "outputs": [
    {
     "data": {
      "text/html": [
       "<div>\n",
       "<style scoped>\n",
       "    .dataframe tbody tr th:only-of-type {\n",
       "        vertical-align: middle;\n",
       "    }\n",
       "\n",
       "    .dataframe tbody tr th {\n",
       "        vertical-align: top;\n",
       "    }\n",
       "\n",
       "    .dataframe thead th {\n",
       "        text-align: right;\n",
       "    }\n",
       "</style>\n",
       "<table border=\"1\" class=\"dataframe\">\n",
       "  <thead>\n",
       "    <tr style=\"text-align: right;\">\n",
       "      <th></th>\n",
       "      <th>time</th>\n",
       "      <th>motor</th>\n",
       "    </tr>\n",
       "  </thead>\n",
       "  <tbody>\n",
       "    <tr>\n",
       "      <th>1</th>\n",
       "      <td>1.610568e+09</td>\n",
       "      <td>360.0</td>\n",
       "    </tr>\n",
       "    <tr>\n",
       "      <th>2</th>\n",
       "      <td>1.610568e+09</td>\n",
       "      <td>2.0</td>\n",
       "    </tr>\n",
       "    <tr>\n",
       "      <th>3</th>\n",
       "      <td>1.610568e+09</td>\n",
       "      <td>7.0</td>\n",
       "    </tr>\n",
       "    <tr>\n",
       "      <th>4</th>\n",
       "      <td>1.610568e+09</td>\n",
       "      <td>11.0</td>\n",
       "    </tr>\n",
       "    <tr>\n",
       "      <th>5</th>\n",
       "      <td>1.610568e+09</td>\n",
       "      <td>17.0</td>\n",
       "    </tr>\n",
       "    <tr>\n",
       "      <th>...</th>\n",
       "      <td>...</td>\n",
       "      <td>...</td>\n",
       "    </tr>\n",
       "    <tr>\n",
       "      <th>217</th>\n",
       "      <td>1.610568e+09</td>\n",
       "      <td>297.0</td>\n",
       "    </tr>\n",
       "    <tr>\n",
       "      <th>218</th>\n",
       "      <td>1.610568e+09</td>\n",
       "      <td>292.0</td>\n",
       "    </tr>\n",
       "    <tr>\n",
       "      <th>219</th>\n",
       "      <td>1.610568e+09</td>\n",
       "      <td>287.0</td>\n",
       "    </tr>\n",
       "    <tr>\n",
       "      <th>220</th>\n",
       "      <td>1.610568e+09</td>\n",
       "      <td>282.0</td>\n",
       "    </tr>\n",
       "    <tr>\n",
       "      <th>221</th>\n",
       "      <td>1.610568e+09</td>\n",
       "      <td>276.0</td>\n",
       "    </tr>\n",
       "  </tbody>\n",
       "</table>\n",
       "<p>221 rows × 2 columns</p>\n",
       "</div>"
      ],
      "text/plain": [
       "             time  motor\n",
       "1    1.610568e+09  360.0\n",
       "2    1.610568e+09    2.0\n",
       "3    1.610568e+09    7.0\n",
       "4    1.610568e+09   11.0\n",
       "5    1.610568e+09   17.0\n",
       "..            ...    ...\n",
       "217  1.610568e+09  297.0\n",
       "218  1.610568e+09  292.0\n",
       "219  1.610568e+09  287.0\n",
       "220  1.610568e+09  282.0\n",
       "221  1.610568e+09  276.0\n",
       "\n",
       "[221 rows x 2 columns]"
      ]
     },
     "execution_count": 54,
     "metadata": {},
     "output_type": "execute_result"
    }
   ],
   "source": [
    "file_path = \"C://Users//Tots//Documents//Python//CLwind//log/20210113_145156\"\n",
    "file_path_fictrac = file_path + \"_fictrac.csv\"\n",
    "file_path_arduino = file_path + \"_arduino.csv\"\n",
    "\n",
    "df_fictrac = pd.read_csv(file_path_fictrac, names = [\"time\", \"heading\"])\n",
    "df_arduino = pd.read_csv(file_path_arduino, names = [\"time\", \"motor\"])\n",
    "\n",
    "df_fictrac = df_fictrac.apply (pd.to_numeric, errors='coerce')\n",
    "df_arduino = df_arduino.apply (pd.to_numeric, errors='coerce')"
   ]
  },
  {
   "cell_type": "code",
   "execution_count": 42,
   "metadata": {},
   "outputs": [],
   "source": [
    "t = df[\"time\"]\n",
    "x = df[\"heading\"]\n",
    "y = df[\"motor\"]"
   ]
  },
  {
   "cell_type": "code",
   "execution_count": 44,
   "metadata": {},
   "outputs": [
    {
     "data": {
      "application/vnd.jupyter.widget-view+json": {
       "model_id": "fd92f528c1fa4dd888eaeafdd08c7034",
       "version_major": 2,
       "version_minor": 0
      },
      "text/plain": [
       "Canvas(toolbar=Toolbar(toolitems=[('Home', 'Reset original view', 'home', 'home'), ('Back', 'Back to previous …"
      ]
     },
     "metadata": {},
     "output_type": "display_data"
    },
    {
     "data": {
      "text/plain": [
       "(0.0, 360.0)"
      ]
     },
     "execution_count": 44,
     "metadata": {},
     "output_type": "execute_result"
    }
   ],
   "source": [
    "LS = 'solid'\n",
    "MS = 5  # markersize\n",
    "\n",
    "plt.close('all')\n",
    "fig = plt.figure(figsize=(12, 6))\n",
    "fig.clear()\n",
    "plt.plot(t, x, color = 'blue', linestyle = LS, marker = \".\", markersize = MS, label = 'fly heading')\n",
    "plt.plot(t, y, color = 'orange', linestyle = LS, marker = \".\", markersize = MS, label = 'motor position')\n",
    "plt.xticks(np.arange(0, 40.1, step=5))\n",
    "plt.yticks(np.arange(0, 720.1, step=5))\n",
    "plt.ylabel('heading (deg)', fontsize=20)\n",
    "plt.legend(loc='best', fontsize='x-large', markerscale=5)\n",
    "\n",
    "# double plot\n",
    "# plt.plot(t, x + 360, color = 'blue', linestyle = LS, marker = \".\", markersize = MS)\n",
    "# plt.plot(t, y + 360, color = 'orange', linestyle = LS, marker = \".\", markersize = MS)\n",
    "# plt.plot(plt.xlim(), [360, 360], 'k:')\n",
    "# plt.grid(True, which='both', axis='both')\n",
    "\n",
    "plt.xlim([0, 20])\n",
    "plt.ylim([0, 360])"
   ]
  }
 ],
 "metadata": {
  "kernelspec": {
   "display_name": "Python 3",
   "language": "python",
   "name": "python3"
  },
  "language_info": {
   "codemirror_mode": {
    "name": "ipython",
    "version": 3
   },
   "file_extension": ".py",
   "mimetype": "text/x-python",
   "name": "python",
   "nbconvert_exporter": "python",
   "pygments_lexer": "ipython3",
   "version": "3.7.4"
  }
 },
 "nbformat": 4,
 "nbformat_minor": 4
}
