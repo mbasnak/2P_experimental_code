{
 "cells": [
  {
   "cell_type": "code",
   "execution_count": null,
   "metadata": {},
   "outputs": [],
   "source": [
    "# -*- coding: utf-8 -*-\n",
    "\"\"\"\n",
    "Anazlying log files\n",
    "\n",
    "Tatsuo Okubo\n",
    "12/15/2020\n",
    "\"\"\""
   ]
  },
  {
   "cell_type": "code",
   "execution_count": 5,
   "metadata": {},
   "outputs": [],
   "source": [
    "%matplotlib widget\n",
    "import numpy as np\n",
    "import pandas as pd\n",
    "import matplotlib.pyplot as plt\n",
    "import seaborn as sns\n",
    "from matplotlib.ticker import (MultipleLocator, AutoMinorLocator)"
   ]
  },
  {
   "cell_type": "code",
   "execution_count": 6,
   "metadata": {},
   "outputs": [],
   "source": [
    "Fs  = 50  # Hz\n",
    "\n",
    "#file_path = \"C:\\\\Users\\\\Tots\\\\Documents\\\\Python\\\\CLwind\\\\log\\\\20201215_152331.csv\"  # no angle threshold\n",
    "file_path = \"C:\\\\Users\\\\Tots\\\\Documents\\\\Python\\\\CLwind\\\\log\\\\20210113_103810.csv\"\n",
    "\n",
    "df = pd.read_csv(file_path, names = [\"frame\", \"heading\", \"motor\"])\n",
    "\n",
    "df = df.apply (pd.to_numeric, errors='coerce')\n",
    "df = df.dropna()\n",
    "\n",
    "n = df[\"frame\"]\n",
    "x = df[\"heading\"]\n",
    "y = df[\"motor\"]\n",
    "t = n/Fs"
   ]
  },
  {
   "cell_type": "code",
   "execution_count": 13,
   "metadata": {},
   "outputs": [
    {
     "data": {
      "application/vnd.jupyter.widget-view+json": {
       "model_id": "446667e941354e42912c4089286ae75c",
       "version_major": 2,
       "version_minor": 0
      },
      "text/plain": [
       "Canvas(toolbar=Toolbar(toolitems=[('Home', 'Reset original view', 'home', 'home'), ('Back', 'Back to previous …"
      ]
     },
     "metadata": {},
     "output_type": "display_data"
    }
   ],
   "source": [
    "fig = plt.figure()\n",
    "fig.clear()\n",
    "plt.plot(t, x, color = 'blue', linestyle = 'none', marker = \".\", markersize = 2, label = 'fly heading')\n",
    "plt.plot(t, y, color = 'orange', linestyle = 'none', marker = \".\", markersize = 2, label = 'motor position')\n",
    "plt.xticks(np.arange(0, 40.1, step=5))\n",
    "plt.yticks(np.arange(0, 720.1, step=90))\n",
    "plt.ylabel('heading (deg)', fontsize=20)\n",
    "plt.legend(loc='upper center', fontsize='x-large', markerscale=5)\n",
    "\n",
    "# double plot\n",
    "plt.plot(t, x + 360, color = 'blue', linestyle = 'none', marker = \".\", markersize = 2)\n",
    "plt.plot(t, y + 360, color = 'orange', linestyle = 'none', marker = \".\", markersize = 2)\n",
    "#plt.xlim([0, 40])\n",
    "#plt.ylim([0, 720])\n",
    "plt.plot(plt.xlim(), [360, 360], 'k:')\n",
    "plt.grid(True, which='both', axis='both')"
   ]
  }
 ],
 "metadata": {
  "kernelspec": {
   "display_name": "Python 3",
   "language": "python",
   "name": "python3"
  },
  "language_info": {
   "codemirror_mode": {
    "name": "ipython",
    "version": 3
   },
   "file_extension": ".py",
   "mimetype": "text/x-python",
   "name": "python",
   "nbconvert_exporter": "python",
   "pygments_lexer": "ipython3",
   "version": "3.7.4"
  }
 },
 "nbformat": 4,
 "nbformat_minor": 4
}
