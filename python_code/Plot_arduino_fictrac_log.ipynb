{
 "cells": [
  {
   "cell_type": "code",
   "execution_count": 45,
   "metadata": {},
   "outputs": [
    {
     "data": {
      "text/plain": [
       "'\\nAnazlying the FicTrac and Arduino logs and plotting them side by side\\n\\nTatsuo Okubo\\n1/13/2021\\n'"
      ]
     },
     "execution_count": 45,
     "metadata": {},
     "output_type": "execute_result"
    }
   ],
   "source": [
    "# -*- coding: utf-8 -*-\n",
    "\"\"\"\n",
    "Anazlying the FicTrac and Arduino logs and plotting them side by side\n",
    "\n",
    "Tatsuo Okubo\n",
    "1/13/2021\n",
    "\"\"\""
   ]
  },
  {
   "cell_type": "code",
   "execution_count": 46,
   "metadata": {},
   "outputs": [],
   "source": [
    "%matplotlib widget\n",
    "import numpy as np\n",
    "import pandas as pd\n",
    "import matplotlib.pyplot as plt\n",
    "import seaborn as sns\n",
    "from matplotlib.ticker import (MultipleLocator, AutoMinorLocator)"
   ]
  },
  {
   "cell_type": "code",
   "execution_count": 77,
   "metadata": {},
   "outputs": [],
   "source": [
    "file_path = \"C://Users//Tots//Documents//Python//CLwind//log/20210113_154715\"\n",
    "file_path_fictrac = file_path + \"_fictrac.csv\"\n",
    "file_path_arduino = file_path + \"_arduino.csv\"\n",
    "\n",
    "df_fictrac = pd.read_csv(file_path_fictrac, names = [\"time\", \"heading\"])\n",
    "df_arduino = pd.read_csv(file_path_arduino, names = [\"time\", \"motor\"])\n",
    "\n",
    "df_fictrac = df_fictrac.apply (pd.to_numeric, errors='coerce')\n",
    "df_arduino = df_arduino.apply (pd.to_numeric, errors='coerce')"
   ]
  },
  {
   "cell_type": "code",
   "execution_count": 78,
   "metadata": {},
   "outputs": [
    {
     "data": {
      "application/vnd.jupyter.widget-view+json": {
       "model_id": "6ed400295bde48e2be601b74fa12b8e0",
       "version_major": 2,
       "version_minor": 0
      },
      "text/plain": [
       "Canvas(toolbar=Toolbar(toolitems=[('Home', 'Reset original view', 'home', 'home'), ('Back', 'Back to previous …"
      ]
     },
     "metadata": {},
     "output_type": "display_data"
    },
    {
     "data": {
      "text/plain": [
       "Text(0, 0.5, 'angular position (deg)')"
      ]
     },
     "execution_count": 78,
     "metadata": {},
     "output_type": "execute_result"
    }
   ],
   "source": [
    "plt.close('all')\n",
    "fig = plt.figure(figsize=(12, 6))\n",
    "plt.plot(df_fictrac.time, df_fictrac.heading, '.', color='blue', label='fly heading')\n",
    "plt.plot(df_arduino.time, df_arduino.motor, '.', color='orange', label='motor position')\n",
    "plt.legend(loc='upper left', fontsize='large', markerscale=2)\n",
    "plt.xlabel('time stamp (s)', fontsize=14)\n",
    "plt.ylabel('angular position (deg)', fontsize=14)\n"
   ]
  },
  {
   "cell_type": "code",
   "execution_count": 81,
   "metadata": {},
   "outputs": [
    {
     "name": "stderr",
     "output_type": "stream",
     "text": [
      "C:\\Users\\Tots\\anaconda3\\envs\\CLwind\\lib\\site-packages\\seaborn\\distributions.py:2557: FutureWarning: `distplot` is a deprecated function and will be removed in a future version. Please adapt your code to use either `displot` (a figure-level function with similar flexibility) or `histplot` (an axes-level function for histograms).\n",
      "  warnings.warn(msg, FutureWarning)\n"
     ]
    },
    {
     "data": {
      "text/plain": [
       "<AxesSubplot:xlabel='time stamp (s)', ylabel='angular position (deg)'>"
      ]
     },
     "execution_count": 81,
     "metadata": {},
     "output_type": "execute_result"
    }
   ],
   "source": [
    "sns.set_style('darkgrid')\n",
    "sns.distplot(np.diff(df_fictrac.time))"
   ]
  }
 ],
 "metadata": {
  "kernelspec": {
   "display_name": "Python 3",
   "language": "python",
   "name": "python3"
  },
  "language_info": {
   "codemirror_mode": {
    "name": "ipython",
    "version": 3
   },
   "file_extension": ".py",
   "mimetype": "text/x-python",
   "name": "python",
   "nbconvert_exporter": "python",
   "pygments_lexer": "ipython3",
   "version": "3.7.4"
  }
 },
 "nbformat": 4,
 "nbformat_minor": 4
}
